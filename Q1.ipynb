{
 "cells": [
  {
   "cell_type": "code",
   "execution_count": 1,
   "id": "a3c0a977",
   "metadata": {},
   "outputs": [
    {
     "name": "stdout",
     "output_type": "stream",
     "text": [
      "INFO:tensorflow:Enabling eager execution\n",
      "INFO:tensorflow:Enabling v2 tensorshape\n",
      "INFO:tensorflow:Enabling resource variables\n",
      "INFO:tensorflow:Enabling tensor equality\n",
      "INFO:tensorflow:Enabling control flow v2\n"
     ]
    }
   ],
   "source": [
    "import tensorflow as tf\n",
    "from tensorflow import keras\n",
    "from tensorflow.keras import layers, models\n",
    "from tensorflow.keras.models import load_model, Sequential\n",
    "from keras.callbacks import EarlyStopping\n",
    "import os\n",
    "import numpy as np\n",
    "import matplotlib.pyplot as plt\n",
    "from tensorflow.keras.layers import Input, Dense, Conv2D, MaxPooling2D, BatchNormalization, Dropout, Flatten"
   ]
  },
  {
   "cell_type": "code",
   "execution_count": 2,
   "id": "6927abc3",
   "metadata": {},
   "outputs": [],
   "source": [
    "# load fashion mnist dataset\n",
    "fashion_mnist = keras.datasets.fashion_mnist\n",
    "\n",
    "# split train test\n",
    "(X_train_full, y_train_full), (X_test, y_test) = fashion_mnist.load_data()\n",
    "\n",
    "# different class names in Fashion Mnist dataset\n",
    "class_names = ['T-shirt/top', 'Trouser', 'Pullover', 'Dress', 'Coat', 'Sandal', 'Shirt', 'Sneaker', 'Bag', 'Ankle boot']"
   ]
  },
  {
   "cell_type": "code",
   "execution_count": 3,
   "id": "d87e8f8f",
   "metadata": {},
   "outputs": [],
   "source": [
    "# Reshape image (28,28) to (28,28,1) \n",
    "X_train_full = X_train_full.reshape((60000, 28, 28, 1))\n",
    "X_test = X_test.reshape((10000, 28, 28, 1))\n",
    "\n",
    "# divide all pixels by 255 to normalize data\n",
    "X_train_full = X_train_full / 255.0\n",
    "X_test = X_test / 255.0\n",
    "\n",
    "# split validation set from train set\n",
    "X_valid, X_train = X_train_full[:5000], X_train_full[5000:]\n",
    "y_valid, y_train = y_train_full[:5000], y_train_full[5000:]"
   ]
  },
  {
   "cell_type": "code",
   "execution_count": 4,
   "id": "7cb583ed",
   "metadata": {},
   "outputs": [],
   "source": [
    "# model_1\n",
    "# model = Sequential()\n",
    "# model.add(Conv2D(32, (3,3), activation='relu', input_shape=(28,28,1) ))\n",
    "# model.add(Conv2D(64, (3,3), activation='relu'))\n",
    "# model.add(Conv2D(128, (3,3), activation='relu'))\n",
    "# model.add(MaxPooling2D((2,2)))\n",
    "# model.add(MaxPooling2D((2,2)))\n",
    "# model.add(MaxPooling2D((2,2)))\n",
    "# model.add(Flatten())\n",
    "# model.add(Dense(128, activation='relu'))\n",
    "# model.add(Dense(10, 'softmax'))"
   ]
  },
  {
   "cell_type": "code",
   "execution_count": 5,
   "id": "acdeb7c5",
   "metadata": {},
   "outputs": [],
   "source": [
    "# model_2\n",
    "model = Sequential()\n",
    "model.add(BatchNormalization(input_shape=(28,28,1)))\n",
    "model.add(Conv2D(32, (3,3), activation='relu' ))\n",
    "model.add(MaxPooling2D((2,2)))\n",
    "model.add(BatchNormalization())\n",
    "model.add(Conv2D(64, (3,3), activation='relu'))\n",
    "model.add(MaxPooling2D((2,2)))\n",
    "model.add(Flatten())\n",
    "model.add(Dense(128, activation='relu'))\n",
    "model.add(Dropout(0.1))\n",
    "model.add(Dense(10, 'softmax'))"
   ]
  },
  {
   "cell_type": "code",
   "execution_count": 6,
   "id": "4a369cac",
   "metadata": {},
   "outputs": [],
   "source": [
    "# model_3\n",
    "# model = Sequential()\n",
    "# model.add(BatchNormalization(input_shape=(28,28,1)))\n",
    "# model.add(Conv2D(32, (3,3), activation='relu' ))\n",
    "# model.add(MaxPooling2D((2,2)))\n",
    "# model.add(BatchNormalization())\n",
    "# model.add(Conv2D(64, (3,3), activation='relu'))\n",
    "# model.add(MaxPooling2D((2,2)))\n",
    "# model.add(BatchNormalization())\n",
    "# model.add(Conv2D(128, (3,3), activation='relu'))\n",
    "# model.add(MaxPooling2D((2,2)))\n",
    "# model.add(Flatten())\n",
    "# model.add(Dense(128, activation='relu'))\n",
    "# model.add(Dropout(0.1))\n",
    "# model.add(Dense(10, 'softmax'))"
   ]
  },
  {
   "cell_type": "code",
   "execution_count": 7,
   "id": "28eedaab",
   "metadata": {},
   "outputs": [
    {
     "name": "stdout",
     "output_type": "stream",
     "text": [
      "Model: \"sequential\"\n",
      "_________________________________________________________________\n",
      "Layer (type)                 Output Shape              Param #   \n",
      "=================================================================\n",
      "batch_normalization (BatchNo (None, 28, 28, 1)         4         \n",
      "_________________________________________________________________\n",
      "conv2d (Conv2D)              (None, 26, 26, 32)        320       \n",
      "_________________________________________________________________\n",
      "max_pooling2d (MaxPooling2D) (None, 13, 13, 32)        0         \n",
      "_________________________________________________________________\n",
      "batch_normalization_1 (Batch (None, 13, 13, 32)        128       \n",
      "_________________________________________________________________\n",
      "conv2d_1 (Conv2D)            (None, 11, 11, 64)        18496     \n",
      "_________________________________________________________________\n",
      "max_pooling2d_1 (MaxPooling2 (None, 5, 5, 64)          0         \n",
      "_________________________________________________________________\n",
      "flatten (Flatten)            (None, 1600)              0         \n",
      "_________________________________________________________________\n",
      "dense (Dense)                (None, 128)               204928    \n",
      "_________________________________________________________________\n",
      "dropout (Dropout)            (None, 128)               0         \n",
      "_________________________________________________________________\n",
      "dense_1 (Dense)              (None, 10)                1290      \n",
      "=================================================================\n",
      "Total params: 225,166\n",
      "Trainable params: 225,100\n",
      "Non-trainable params: 66\n",
      "_________________________________________________________________\n"
     ]
    }
   ],
   "source": [
    "model.summary()"
   ]
  },
  {
   "cell_type": "code",
   "execution_count": 8,
   "id": "2a816359",
   "metadata": {},
   "outputs": [],
   "source": [
    "model.compile(optimizer='adam',\n",
    "              loss='sparse_categorical_crossentropy',\n",
    "              metrics=['accuracy'])"
   ]
  },
  {
   "cell_type": "code",
   "execution_count": 9,
   "id": "e26f4a11",
   "metadata": {},
   "outputs": [
    {
     "name": "stdout",
     "output_type": "stream",
     "text": [
      "Epoch 1/20\n",
      "1719/1719 [==============================] - 66s 38ms/step - loss: 0.4178 - accuracy: 0.8469 - val_loss: 0.3105 - val_accuracy: 0.8824\n",
      "Epoch 2/20\n",
      "1719/1719 [==============================] - 58s 34ms/step - loss: 0.2949 - accuracy: 0.8900 - val_loss: 0.2716 - val_accuracy: 0.8986\n",
      "Epoch 3/20\n",
      "1719/1719 [==============================] - 59s 34ms/step - loss: 0.2545 - accuracy: 0.9047 - val_loss: 0.2739 - val_accuracy: 0.8938\n",
      "Epoch 4/20\n",
      "1719/1719 [==============================] - 58s 34ms/step - loss: 0.2242 - accuracy: 0.9163 - val_loss: 0.2530 - val_accuracy: 0.9038\n",
      "Epoch 5/20\n",
      "1719/1719 [==============================] - 59s 34ms/step - loss: 0.1997 - accuracy: 0.9243 - val_loss: 0.2461 - val_accuracy: 0.9092\n",
      "Epoch 6/20\n",
      "1719/1719 [==============================] - 59s 35ms/step - loss: 0.1779 - accuracy: 0.9326 - val_loss: 0.2565 - val_accuracy: 0.9134\n",
      "Epoch 7/20\n",
      "1719/1719 [==============================] - 59s 34ms/step - loss: 0.1628 - accuracy: 0.9378 - val_loss: 0.2595 - val_accuracy: 0.9056\n",
      "Epoch 8/20\n",
      "1719/1719 [==============================] - 58s 34ms/step - loss: 0.1432 - accuracy: 0.9450 - val_loss: 0.2697 - val_accuracy: 0.9122\n",
      "Epoch 00008: early stopping\n"
     ]
    }
   ],
   "source": [
    "#model.fit(train_images_norm, train_labels, epochs=20, batch_size=512, shuffle=True, validation_split=0.1)\n",
    "\n",
    "es = EarlyStopping(monitor='val_loss', mode='min', verbose=1, patience=3)\n",
    "history = model.fit(X_train, y_train, epochs=20, validation_data=(X_valid, y_valid), callbacks=[es])"
   ]
  },
  {
   "cell_type": "code",
   "execution_count": 10,
   "id": "8dc116a9",
   "metadata": {},
   "outputs": [
    {
     "name": "stdout",
     "output_type": "stream",
     "text": [
      "313/313 [==============================] - 3s 9ms/step - loss: 0.3087 - accuracy: 0.9068\n"
     ]
    }
   ],
   "source": [
    "test_loss, test_accuracy = model.evaluate(X_test, y_test)"
   ]
  },
  {
   "cell_type": "code",
   "execution_count": null,
   "id": "68249b07",
   "metadata": {},
   "outputs": [],
   "source": []
  }
 ],
 "metadata": {
  "kernelspec": {
   "display_name": "Python 3",
   "language": "python",
   "name": "python3"
  },
  "language_info": {
   "codemirror_mode": {
    "name": "ipython",
    "version": 3
   },
   "file_extension": ".py",
   "mimetype": "text/x-python",
   "name": "python",
   "nbconvert_exporter": "python",
   "pygments_lexer": "ipython3",
   "version": "3.9.4"
  }
 },
 "nbformat": 4,
 "nbformat_minor": 5
}
