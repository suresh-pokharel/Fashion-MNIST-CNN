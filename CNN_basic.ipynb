{
 "cells": [
  {
   "cell_type": "code",
   "execution_count": 20,
   "metadata": {
    "id": "8qVhGJc29eiR"
   },
   "outputs": [],
   "source": [
    "import numpy as np\n",
    "from sklearn.linear_model import Perceptron\n",
    "from keras.optimizers import Adam\n",
    "from keras.callbacks import EarlyStopping\n",
    "from keras import Sequential\n",
    "from tensorflow.keras.models import Model\n",
    "from tensorflow.keras.layers import Input, Dense, Conv2D, MaxPooling2D, BatchNormalization, Dropout, Flatten"
   ]
  },
  {
   "cell_type": "code",
   "execution_count": 21,
   "metadata": {
    "colab": {
     "base_uri": "https://localhost:8080/",
     "height": 36
    },
    "id": "S_kjO0xQ94nV",
    "outputId": "8ed0c218-2eae-4f65-c74d-81e2aa8e151e"
   },
   "outputs": [
    {
     "data": {
      "text/plain": [
       "'2.5.0'"
      ]
     },
     "execution_count": 21,
     "metadata": {},
     "output_type": "execute_result"
    }
   ],
   "source": [
    "import tensorflow as tf\n",
    "from tensorflow import keras\n",
    "tf.__version__\n",
    "keras.__version__"
   ]
  },
  {
   "cell_type": "code",
   "execution_count": 22,
   "metadata": {
    "id": "xDrqlCAu99fG"
   },
   "outputs": [],
   "source": [
    "fashion_mnist = keras.datasets.fashion_mnist\n",
    "(X_train_full, y_train_full), (X_test, y_test) = fashion_mnist.load_data()"
   ]
  },
  {
   "cell_type": "code",
   "execution_count": 23,
   "metadata": {
    "colab": {
     "base_uri": "https://localhost:8080/"
    },
    "id": "w12AR46U-DV1",
    "outputId": "159ee951-5a89-4849-b2d7-07dfc2378fcb"
   },
   "outputs": [
    {
     "data": {
      "text/plain": [
       "(60000, 28, 28)"
      ]
     },
     "execution_count": 23,
     "metadata": {},
     "output_type": "execute_result"
    }
   ],
   "source": [
    "X_train_full.shape\n"
   ]
  },
  {
   "cell_type": "code",
   "execution_count": 6,
   "metadata": {
    "colab": {
     "base_uri": "https://localhost:8080/"
    },
    "id": "1asHEAuR-KOb",
    "outputId": "fe61c1e5-bbf1-4adf-bd9f-bb5cac2e9a84"
   },
   "outputs": [
    {
     "data": {
      "text/plain": [
       "dtype('uint8')"
      ]
     },
     "execution_count": 6,
     "metadata": {},
     "output_type": "execute_result"
    }
   ],
   "source": [
    "\n",
    "X_train_full.dtype"
   ]
  },
  {
   "cell_type": "code",
   "execution_count": 24,
   "metadata": {
    "id": "76k8x8O9-UTw"
   },
   "outputs": [],
   "source": [
    "X_valid, X_train = X_train_full[:5000] / 255.0, X_train_full[5000:] / 255.0\n",
    "y_valid, y_train = y_train_full[:5000], y_train_full[5000:]"
   ]
  },
  {
   "cell_type": "code",
   "execution_count": 26,
   "metadata": {
    "id": "044_DyN1-ZBI"
   },
   "outputs": [],
   "source": [
    "class_names = [\"T-shirt/top\", \"Trouser\", \"Pullover\", \"Dress\", \"Coat\", \"Sandal\", \"Shirt\", \"Sneaker\", \"Bag\", \"Ankle boot\"]"
   ]
  },
  {
   "cell_type": "code",
   "execution_count": 9,
   "metadata": {
    "colab": {
     "base_uri": "https://localhost:8080/",
     "height": 36
    },
    "id": "rXdf2ahQ-iyL",
    "outputId": "031b82b3-3e79-4b83-bba7-4d0035167a3c"
   },
   "outputs": [
    {
     "data": {
      "text/plain": [
       "'Coat'"
      ]
     },
     "execution_count": 9,
     "metadata": {},
     "output_type": "execute_result"
    }
   ],
   "source": [
    "class_names[y_train[0]]"
   ]
  },
  {
   "cell_type": "code",
   "execution_count": 25,
   "metadata": {
    "id": "eY4e-x2V-o8s"
   },
   "outputs": [],
   "source": [
    "model_1 = keras.models.Sequential()\n",
    "model_1.add(keras.layers.Flatten(input_shape=[28, 28]))\n",
    "model_1.add(keras.layers.Dense(300, activation=\"relu\"))\n",
    "model_1.add(keras.layers.Dense(100, activation=\"relu\"))\n",
    "model_1.add(keras.layers.Dense(10, activation=\"softmax\"))"
   ]
  },
  {
   "cell_type": "code",
   "execution_count": 11,
   "metadata": {},
   "outputs": [],
   "source": [
    "X_train = X_train.reshape((X_train.shape[0], 28, 28, 1))\n",
    "X_valid = X_valid.reshape((X_valid.shape[0], 28, 28, 1))\n",
    "X_test = X_test.reshape((X_test.shape[0], 28, 28, 1))"
   ]
  },
  {
   "cell_type": "code",
   "execution_count": null,
   "metadata": {},
   "outputs": [],
   "source": [
    "model_2 = keras.models.Sequential()\n",
    "model_2.add(keras.layers.Conv2D(32, (3, 3), activation='relu', input_shape=(28, 28, 1)))\n",
    "model_2.add(keras.layers.MaxPooling2D((2, 2)))\n",
    "model_2.add(keras.layers.Flatten())\n",
    "model_2.add(keras.layers.Dense(300, activation='relu'))\n",
    "model_2.add(keras.layers.Dense(10, activation='softmax'))\n",
    "# compile model\n",
    "model_2.compile(optimizer='adam', loss='categorical_crossentropy', metrics=['accuracy'])"
   ]
  },
  {
   "cell_type": "code",
   "execution_count": null,
   "metadata": {},
   "outputs": [],
   "source": [
    "# from tensorflow.keras import layers\n",
    "\n",
    "# def resblock(x, kernelsize, filters):\n",
    "#     fx = layers.Conv2D(filters, kernelsize, activation='relu', padding='same')(x)\n",
    "#     fx = layers.BatchNormalization()(fx)\n",
    "#     fx = layers.Conv2D(filters, kernelsize, padding='same')(fx)\n",
    "#     out = layers.Add()([x,fx])\n",
    "#     out = layers.ReLU()(out)\n",
    "#     out = layers.BatchNormalization()(out)\n",
    "#     return out"
   ]
  },
  {
   "cell_type": "code",
   "execution_count": null,
   "metadata": {},
   "outputs": [],
   "source": [
    "# i = Input(shape=(28,28,1))\n",
    "# d = Conv2D(64,(7,7),activation='relu',kernel_regularizer=regularizers.l2(0.0001),padding='same')(i)\n",
    "# d = residual_block(i,64,128,(1,1),False)\n",
    "# d = MaxPooling2D(pool_size=(2, 2))(d)\n",
    "# d = GaussianNoise(0.33)(d)\n",
    "# d = residual_block(d,128,256,sizematches=True)\n",
    "# d = MaxPooling2D(pool_size=(2, 2))(d)\n",
    "# d = GaussianNoise(0.43)(d)\n",
    "# d = residual_block(d,256,512,sizematches=True)\n",
    "# d = GaussianNoise(0.53)(d)\n",
    "# d = AveragePooling2D(pool_size=(4, 4))(d)\n",
    "# d = Flatten()(d)\n",
    "# d= Dense(10,activation='softmax')(d)"
   ]
  },
  {
   "cell_type": "code",
   "execution_count": 12,
   "metadata": {},
   "outputs": [],
   "source": [
    "# best model\n",
    "model_3 = Sequential()\n",
    "model_3.add(Conv2D(filters=64, kernel_size=3, padding='same', activation='relu', input_shape=(28,28,1))) \n",
    "model_3.add(MaxPooling2D(pool_size=2))\n",
    "model_3.add(BatchNormalization())\n",
    "model_3.add(Dropout(0.3))\n",
    "model_3.add(Conv2D(filters=32, kernel_size=3, padding='same', activation='relu'))\n",
    "model_3.add(BatchNormalization())\n",
    "model_3.add(MaxPooling2D(pool_size=2))\n",
    "model_3.add(Dropout(0.3))\n",
    "model_3.add(Flatten())\n",
    "model_3.add(Dense(256, activation='relu'))\n",
    "model_3.add(Dropout(0.5))\n",
    "model_3.add(Dense(10, activation='softmax'))"
   ]
  },
  {
   "cell_type": "code",
   "execution_count": null,
   "metadata": {},
   "outputs": [],
   "source": [
    "# Create the model\n",
    "model = Sequential()\n",
    "model.add(Conv2D(32, kernel_size=(3, 3), activation='relu', input_shape=(28,28,1)))\n",
    "model.add(BatchNormalization())\n",
    "model.add(MaxPooling2D(pool_size=(2, 2)))\n",
    "model.add(BatchNormalization())\n",
    "model.add(Conv2D(64, kernel_size=(3, 3), activation='relu'))\n",
    "model.add(BatchNormalization())\n",
    "model.add(MaxPooling2D(pool_size=(2, 2)))\n",
    "model.add(BatchNormalization())\n",
    "model.add(Flatten())\n",
    "model.add(Dense(256, activation='relu'))\n",
    "model.add(BatchNormalization())\n",
    "model.add(Dense(10, activation='softmax'))"
   ]
  },
  {
   "cell_type": "code",
   "execution_count": 27,
   "metadata": {
    "id": "1OJ4hKCy-ypc"
   },
   "outputs": [],
   "source": [
    "model_1.compile(loss=\"sparse_categorical_crossentropy\", optimizer=\"sgd\", metrics=[\"accuracy\"])"
   ]
  },
  {
   "cell_type": "code",
   "execution_count": 28,
   "metadata": {
    "colab": {
     "base_uri": "https://localhost:8080/"
    },
    "id": "4nCnf6-j-_Nw",
    "outputId": "0a1e2146-defe-4bc6-f8e3-44e78d3fd9e4"
   },
   "outputs": [
    {
     "name": "stdout",
     "output_type": "stream",
     "text": [
      "Epoch 1/30\n",
      "1719/1719 [==============================] - 7s 4ms/step - loss: 0.7229 - accuracy: 0.7655 - val_loss: 0.5064 - val_accuracy: 0.8334\n",
      "Epoch 2/30\n",
      "1719/1719 [==============================] - 6s 3ms/step - loss: 0.4871 - accuracy: 0.8293 - val_loss: 0.4611 - val_accuracy: 0.8426\n",
      "Epoch 3/30\n",
      "1719/1719 [==============================] - 6s 3ms/step - loss: 0.4425 - accuracy: 0.8467 - val_loss: 0.4203 - val_accuracy: 0.8548\n",
      "Epoch 4/30\n",
      "1719/1719 [==============================] - 6s 3ms/step - loss: 0.4157 - accuracy: 0.8535 - val_loss: 0.4024 - val_accuracy: 0.8624\n",
      "Epoch 5/30\n",
      "1719/1719 [==============================] - 6s 3ms/step - loss: 0.3956 - accuracy: 0.8611 - val_loss: 0.4260 - val_accuracy: 0.8456\n",
      "Epoch 6/30\n",
      "1719/1719 [==============================] - 6s 3ms/step - loss: 0.3787 - accuracy: 0.8672 - val_loss: 0.3994 - val_accuracy: 0.8632\n",
      "Epoch 7/30\n",
      "1719/1719 [==============================] - 6s 3ms/step - loss: 0.3655 - accuracy: 0.8716 - val_loss: 0.3630 - val_accuracy: 0.8776\n",
      "Epoch 8/30\n",
      "1719/1719 [==============================] - 6s 3ms/step - loss: 0.3533 - accuracy: 0.8747 - val_loss: 0.3770 - val_accuracy: 0.8684\n",
      "Epoch 9/30\n",
      "1719/1719 [==============================] - 6s 3ms/step - loss: 0.3429 - accuracy: 0.8780 - val_loss: 0.3592 - val_accuracy: 0.8722\n",
      "Epoch 10/30\n",
      "1719/1719 [==============================] - 6s 3ms/step - loss: 0.3330 - accuracy: 0.8808 - val_loss: 0.3485 - val_accuracy: 0.8800\n",
      "Epoch 11/30\n",
      "1719/1719 [==============================] - 6s 3ms/step - loss: 0.3239 - accuracy: 0.8843 - val_loss: 0.3549 - val_accuracy: 0.8752\n",
      "Epoch 12/30\n",
      "1719/1719 [==============================] - 6s 3ms/step - loss: 0.3157 - accuracy: 0.8875 - val_loss: 0.3347 - val_accuracy: 0.8818\n",
      "Epoch 13/30\n",
      "1719/1719 [==============================] - 6s 3ms/step - loss: 0.3085 - accuracy: 0.8896 - val_loss: 0.3395 - val_accuracy: 0.8806\n",
      "Epoch 14/30\n",
      "1719/1719 [==============================] - 6s 3ms/step - loss: 0.3008 - accuracy: 0.8929 - val_loss: 0.3204 - val_accuracy: 0.8880\n",
      "Epoch 15/30\n",
      "1719/1719 [==============================] - 6s 3ms/step - loss: 0.2939 - accuracy: 0.8956 - val_loss: 0.3343 - val_accuracy: 0.8812\n",
      "Epoch 16/30\n",
      "1719/1719 [==============================] - 6s 3ms/step - loss: 0.2880 - accuracy: 0.8963 - val_loss: 0.3393 - val_accuracy: 0.8790\n",
      "Epoch 17/30\n",
      "1719/1719 [==============================] - 6s 3ms/step - loss: 0.2835 - accuracy: 0.8971 - val_loss: 0.3191 - val_accuracy: 0.8860\n",
      "Epoch 18/30\n",
      "1719/1719 [==============================] - 6s 3ms/step - loss: 0.2767 - accuracy: 0.9009 - val_loss: 0.3258 - val_accuracy: 0.8840\n",
      "Epoch 19/30\n",
      "1719/1719 [==============================] - 6s 3ms/step - loss: 0.2712 - accuracy: 0.9031 - val_loss: 0.3096 - val_accuracy: 0.8866\n",
      "Epoch 20/30\n",
      "1719/1719 [==============================] - 6s 3ms/step - loss: 0.2655 - accuracy: 0.9044 - val_loss: 0.3169 - val_accuracy: 0.8872\n",
      "Epoch 21/30\n",
      "1719/1719 [==============================] - 6s 3ms/step - loss: 0.2616 - accuracy: 0.9054 - val_loss: 0.3372 - val_accuracy: 0.8776\n",
      "Epoch 22/30\n",
      "1719/1719 [==============================] - 6s 3ms/step - loss: 0.2566 - accuracy: 0.9080 - val_loss: 0.3005 - val_accuracy: 0.8932\n",
      "Epoch 23/30\n",
      "1719/1719 [==============================] - 6s 3ms/step - loss: 0.2515 - accuracy: 0.9089 - val_loss: 0.3140 - val_accuracy: 0.8864\n",
      "Epoch 24/30\n",
      "1719/1719 [==============================] - 6s 3ms/step - loss: 0.2484 - accuracy: 0.9104 - val_loss: 0.3247 - val_accuracy: 0.8838\n",
      "Epoch 25/30\n",
      "1719/1719 [==============================] - 6s 3ms/step - loss: 0.2434 - accuracy: 0.9119 - val_loss: 0.2939 - val_accuracy: 0.8958\n",
      "Epoch 26/30\n",
      "1719/1719 [==============================] - 6s 3ms/step - loss: 0.2393 - accuracy: 0.9131 - val_loss: 0.3059 - val_accuracy: 0.8910\n",
      "Epoch 27/30\n",
      "1719/1719 [==============================] - 6s 3ms/step - loss: 0.2352 - accuracy: 0.9158 - val_loss: 0.3177 - val_accuracy: 0.8874\n",
      "Epoch 28/30\n",
      "1719/1719 [==============================] - 6s 3ms/step - loss: 0.2321 - accuracy: 0.9170 - val_loss: 0.2983 - val_accuracy: 0.8968\n",
      "Epoch 00028: early stopping\n"
     ]
    }
   ],
   "source": [
    "es = EarlyStopping(monitor='val_loss', mode='min', verbose=1, patience=3)\n",
    "history = model_1.fit(X_train, y_train, epochs=30, validation_data=(X_valid, y_valid), callbacks=[es])"
   ]
  },
  {
   "cell_type": "code",
   "execution_count": 18,
   "metadata": {
    "colab": {
     "base_uri": "https://localhost:8080/"
    },
    "id": "GMI6rzdj-snV",
    "outputId": "fc40cba9-e479-4b28-bec9-6d289988b7fd"
   },
   "outputs": [
    {
     "name": "stdout",
     "output_type": "stream",
     "text": [
      "Model: \"sequential\"\n",
      "_________________________________________________________________\n",
      "Layer (type)                 Output Shape              Param #   \n",
      "=================================================================\n",
      "module_wrapper (ModuleWrappe (None, 28, 28, 64)        640       \n",
      "_________________________________________________________________\n",
      "module_wrapper_1 (ModuleWrap (None, 14, 14, 64)        0         \n",
      "_________________________________________________________________\n",
      "module_wrapper_2 (ModuleWrap (None, 14, 14, 64)        256       \n",
      "_________________________________________________________________\n",
      "module_wrapper_3 (ModuleWrap (None, 14, 14, 64)        0         \n",
      "_________________________________________________________________\n",
      "module_wrapper_4 (ModuleWrap (None, 14, 14, 32)        18464     \n",
      "_________________________________________________________________\n",
      "module_wrapper_5 (ModuleWrap (None, 14, 14, 32)        128       \n",
      "_________________________________________________________________\n",
      "module_wrapper_6 (ModuleWrap (None, 7, 7, 32)          0         \n",
      "_________________________________________________________________\n",
      "module_wrapper_7 (ModuleWrap (None, 7, 7, 32)          0         \n",
      "_________________________________________________________________\n",
      "module_wrapper_8 (ModuleWrap (None, 1568)              0         \n",
      "_________________________________________________________________\n",
      "module_wrapper_9 (ModuleWrap (None, 256)               401664    \n",
      "_________________________________________________________________\n",
      "module_wrapper_10 (ModuleWra (None, 256)               0         \n",
      "_________________________________________________________________\n",
      "module_wrapper_11 (ModuleWra (None, 10)                2570      \n",
      "=================================================================\n",
      "Total params: 423,722\n",
      "Trainable params: 423,530\n",
      "Non-trainable params: 192\n",
      "_________________________________________________________________\n"
     ]
    }
   ],
   "source": [
    "#model = build_model()\n",
    "model_3.summary()"
   ]
  },
  {
   "cell_type": "code",
   "execution_count": 19,
   "metadata": {
    "colab": {
     "base_uri": "https://localhost:8080/"
    },
    "id": "rAmeSb8WBOS0",
    "outputId": "15d2b691-c274-46e0-f2f9-3cad4c97478a"
   },
   "outputs": [
    {
     "name": "stdout",
     "output_type": "stream",
     "text": [
      "313/313 [==============================] - 5s 15ms/step - loss: 46.0428 - accuracy: 0.7468\n"
     ]
    },
    {
     "data": {
      "text/plain": [
       "[46.042808532714844, 0.7468000054359436]"
      ]
     },
     "execution_count": 19,
     "metadata": {},
     "output_type": "execute_result"
    }
   ],
   "source": [
    "model_3.evaluate(X_test, y_test)"
   ]
  },
  {
   "cell_type": "code",
   "execution_count": null,
   "metadata": {
    "id": "-bi_ehBj1Hy3"
   },
   "outputs": [],
   "source": []
  }
 ],
 "metadata": {
  "colab": {
   "name": "CNN_basic.ipynb",
   "provenance": []
  },
  "kernelspec": {
   "display_name": "Python 3",
   "language": "python",
   "name": "python3"
  },
  "language_info": {
   "codemirror_mode": {
    "name": "ipython",
    "version": 3
   },
   "file_extension": ".py",
   "mimetype": "text/x-python",
   "name": "python",
   "nbconvert_exporter": "python",
   "pygments_lexer": "ipython3",
   "version": "3.9.4"
  }
 },
 "nbformat": 4,
 "nbformat_minor": 1
}
